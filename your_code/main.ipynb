{
 "cells": [
  {
   "cell_type": "markdown",
   "metadata": {},
   "source": [
    "## Question 1\n",
    "The following table indicates the number of 6-point scores in an American rugby match in the 1979 season.\n",
    "\n",
    "![](table1.png)\n",
    "\n",
    "Based on these results, we create a Poisson distribution with the sample mean parameter  = 2.435. Is there any reason to believe that at a .05 level the number of scores is a Poisson variable?"
   ]
  },
  {
   "cell_type": "code",
   "execution_count": 3,
   "metadata": {},
   "outputs": [
    {
     "name": "stdout",
     "output_type": "stream",
     "text": [
      "[0.08759774704805763, 0.21330051406202033, 0.2596933758705097, 0.21078445674823038, 0.12831503804548525, 0.06248942352815135, 0.025360291048508066, 0.012459153649037175]\n"
     ]
    }
   ],
   "source": [
    "from scipy.stats import poisson\n",
    "import numpy as np\n",
    "import scipy.stats as st\n",
    "\n",
    "mu = 2.435\n",
    "\n",
    "poisson_dist = poisson(mu)\n",
    "\n",
    "expected = []\n",
    "\n",
    "for i in range(0,7):\n",
    "    expected.append(poisson_dist.pmf(i))\n",
    "\n",
    "expected.append(poisson_dist.sf(6))\n",
    "\n",
    "print(expected)\n",
    "\n"
   ]
  },
  {
   "cell_type": "code",
   "execution_count": 16,
   "metadata": {},
   "outputs": [
    {
     "data": {
      "text/plain": [
       "Power_divergenceResult(statistic=6.491310681109792, pvalue=0.48368890685373034)"
      ]
     },
     "execution_count": 16,
     "metadata": {},
     "output_type": "execute_result"
    }
   ],
   "source": [
    "# H0: follows poisson distr (2.435)\n",
    "# H1: doesn't follow poisson distr (2.435)\n",
    "\n",
    "alpha = 0.05\n",
    "\n",
    "O = np.array([35,99,104,110,62,25,10,3])\n",
    "E = np.array(expected)*448\n",
    "\n",
    "st.chisquare(f_obs=O, f_exp=E)"
   ]
  },
  {
   "cell_type": "code",
   "execution_count": 6,
   "metadata": {},
   "outputs": [
    {
     "data": {
      "text/plain": [
       "False"
      ]
     },
     "execution_count": 6,
     "metadata": {},
     "output_type": "execute_result"
    }
   ],
   "source": [
    "0.48368890685373034 < alpha\n",
    "\n",
    "# Because the p_value is not smaller than our alpha, \n",
    "# we don't reject H0 and start believing that the results\n",
    "# of the rugby matches shown above follow a poisson distribution\n",
    "# with a mean of 2.435"
   ]
  },
  {
   "cell_type": "markdown",
   "metadata": {},
   "source": [
    "## BONUS/OPTIONAL - Question 2\n",
    "Let's analyze a discrete distribution. To analyze the number of defective items in a factory in the city of Medellín, we took a random sample of n = 60 articles and observed the number of defectives in the following table:\n",
    "\n",
    "![](table2.png)\n",
    "\n",
    "A poissón distribution was proposed since it is defined for x = 0,1,2,3, .... using the following model:\n",
    "\n",
    "![](image1.png)\n",
    "\n",
    "For some extra insights check the following link: https://online.stat.psu.edu/stat504/node/63/ \n",
    "\n",
    "Does the distribution of defective items follow this distribution?"
   ]
  },
  {
   "cell_type": "code",
   "execution_count": null,
   "metadata": {},
   "outputs": [],
   "source": [
    "# your code here"
   ]
  },
  {
   "cell_type": "markdown",
   "metadata": {},
   "source": [
    "## Question 3\n",
    "A quality control engineer takes a sample of 10 tires that come out of an assembly line, and would like to verify on the basis of the data that follows, if the number of tires with defects observed over 200 days, if it is true that 5% of all tires have defects (that is, if the sample comes from a binomial population with n = 10 and p = 0.05). \n",
    "\n",
    "![](table3.png)\n"
   ]
  },
  {
   "cell_type": "code",
   "execution_count": 15,
   "metadata": {},
   "outputs": [
    {
     "data": {
      "text/plain": [
       "[0.5987369392383787, 0.3151247048623047, 0.08613835589931637]"
      ]
     },
     "execution_count": 15,
     "metadata": {},
     "output_type": "execute_result"
    }
   ],
   "source": [
    "# We do the expected probability for the binomial probability\n",
    "\n",
    "n = 10\n",
    "p = 0.05\n",
    "\n",
    "from scipy.stats import binom\n",
    "\n",
    "binomial_dist = binom(n,p)\n",
    "\n",
    "exp = [binomial_dist.pmf(i) for i in range(0,2)]\n",
    "exp.append(binomial_dist.sf(1))\n"
   ]
  },
  {
   "cell_type": "code",
   "execution_count": 18,
   "metadata": {},
   "outputs": [
    {
     "data": {
      "text/plain": [
       "Power_divergenceResult(statistic=8.30617951954277, pvalue=0.015715783395951168)"
      ]
     },
     "execution_count": 18,
     "metadata": {},
     "output_type": "execute_result"
    }
   ],
   "source": [
    "# H0: follows binomial distr (n = 10, p = 0.05)\n",
    "# H1: doesn't follow binomial distr (n = 10, p = 0.05) \n",
    "\n",
    "alpha = 0.05\n",
    "\n",
    "O = np.array([138,53,9])\n",
    "E = np.array(exp)*(138+53+9)\n",
    "\n",
    "st.chisquare(f_obs=O, f_exp=E)"
   ]
  },
  {
   "cell_type": "code",
   "execution_count": 20,
   "metadata": {},
   "outputs": [
    {
     "data": {
      "text/plain": [
       "True"
      ]
     },
     "execution_count": 20,
     "metadata": {},
     "output_type": "execute_result"
    }
   ],
   "source": [
    "0.015715783395951168 < alpha\n",
    "\n",
    "# Because p value is smaller than our alpha, we can reject H0\n",
    "# and start believing that the observed frequency of errors shown above \n",
    "# doesn't follow a binomial distribution."
   ]
  },
  {
   "cell_type": "markdown",
   "metadata": {},
   "source": [
    "## Question 4\n",
    "A researcher gathers information about the patterns of Physical Activity of children in the fifth grade of primary school of a public school. He defines three categories of physical activity (Low, Medium, High). He also inquires about the regular consumption of sugary drinks at school, and defines two categories (Yes = consumed, No = not consumed). We would like to evaluate if there is an association between patterns of physical activity and the consumption of sugary drinks for the children of this school, at a level of 5% significance. The results are in the following table: \n",
    "\n",
    "![](table4.png)"
   ]
  },
  {
   "cell_type": "code",
   "execution_count": 21,
   "metadata": {},
   "outputs": [
    {
     "data": {
      "text/plain": [
       "(10.712198008709638,\n",
       " 0.004719280137040844,\n",
       " 2,\n",
       " array([[24.08421053, 19.91578947],\n",
       "        [19.70526316, 16.29473684],\n",
       "        [ 8.21052632,  6.78947368]]))"
      ]
     },
     "execution_count": 21,
     "metadata": {},
     "output_type": "execute_result"
    }
   ],
   "source": [
    "## H0: the physical activity variable is independent from consumption of sugary drinks\n",
    "## H1: the physical activity variable is dependent from consumption of sugary drinks\n",
    "\n",
    "# Significance \n",
    "\n",
    "alpha = 0.05\n",
    "\n",
    "# Sample\n",
    "\n",
    "sugar_table = np.array([[32, 12],\n",
    "                        [14,22],\n",
    "                        [6,9]])\n",
    "\n",
    "# 4. 5. Stats and p_value\n",
    "\n",
    "st.chi2_contingency(sugar_table)"
   ]
  },
  {
   "cell_type": "code",
   "execution_count": 22,
   "metadata": {},
   "outputs": [
    {
     "data": {
      "text/plain": [
       "True"
      ]
     },
     "execution_count": 22,
     "metadata": {},
     "output_type": "execute_result"
    }
   ],
   "source": [
    "# Decision \n",
    "\n",
    "0.004719280137040844 < 0.05\n",
    "\n",
    "## We have gathered enough evidence to believe with a confidence of 95% that the physical activity\n",
    "## is not independent with the sugary drinks consumption. And we start believing that they are dependent variables."
   ]
  }
 ],
 "metadata": {
  "interpreter": {
   "hash": "c46df99c39bb9a82aa3a80b0252004354fd809a06843b5a94e52a4adc2e83888"
  },
  "kernelspec": {
   "display_name": "Python 3.7.9 ('projectsql')",
   "language": "python",
   "name": "python3"
  },
  "language_info": {
   "codemirror_mode": {
    "name": "ipython",
    "version": 3
   },
   "file_extension": ".py",
   "mimetype": "text/x-python",
   "name": "python",
   "nbconvert_exporter": "python",
   "pygments_lexer": "ipython3",
   "version": "3.7.9"
  }
 },
 "nbformat": 4,
 "nbformat_minor": 2
}
